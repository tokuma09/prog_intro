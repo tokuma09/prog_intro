{
 "cells": [
  {
   "cell_type": "markdown",
   "metadata": {},
   "source": [
    "# Basic structure of computation program\n",
    "\n",
    "In this chapter, we learn the basic structure of program and some technics about algorithm."
   ]
  },
  {
   "cell_type": "markdown",
   "metadata": {},
   "source": [
    "## exhaustive enumeration\n",
    "\n",
    "We learn exhaustive enumeration by computing the cube root.\n",
    "\n",
    "Exhaustive enumeration is a kind of guess and check algorithm."
   ]
  },
  {
   "cell_type": "code",
   "execution_count": 1,
   "metadata": {},
   "outputs": [
    {
     "name": "stdout",
     "output_type": "stream",
     "text": [
      "Enter an integer: 9\n",
      "the value of decreasing function abs(x) - ans**3 is  8\n",
      "the value of decreasing function abs(x) - ans**3 is  1\n",
      "the value of decreasing function abs(x) - ans**3 is  -18\n",
      "9 is not a perfect cube\n"
     ]
    }
   ],
   "source": [
    "x = int(input(\"Enter an integer: \"))\n",
    "ans = 0\n",
    "while ans**3 < abs(x):\n",
    "    ans +=1\n",
    "    print(\"the value of decreasing function abs(x) - ans**3 is \", abs(x)- ans**3)\n",
    "\n",
    "if ans**3 != abs(x):\n",
    "    print(x, \"is not a perfect cube\")\n",
    "else:\n",
    "    print(\"Cube root of \", x, \"is\", abs(ans))\n",
    "    "
   ]
  },
  {
   "cell_type": "code",
   "execution_count": 2,
   "metadata": {},
   "outputs": [
    {
     "name": "stdout",
     "output_type": "stream",
     "text": [
      "Enter a positive integer:100\n",
      "100\n"
     ]
    }
   ],
   "source": [
    "maxval = int(input(\"Enter a positive integer:\"))\n",
    "i=0\n",
    "while i < maxval:\n",
    "    i += 1\n",
    "\n",
    "print(i)"
   ]
  },
  {
   "cell_type": "markdown",
   "metadata": {},
   "source": [
    "## for loop"
   ]
  },
  {
   "cell_type": "code",
   "execution_count": 3,
   "metadata": {},
   "outputs": [
    {
     "name": "stdout",
     "output_type": "stream",
     "text": [
      "0\n",
      "1\n",
      "2\n",
      "3\n"
     ]
    }
   ],
   "source": [
    "x = 4 \n",
    "for i in range(0,x):\n",
    "    print(i)"
   ]
  },
  {
   "cell_type": "markdown",
   "metadata": {},
   "source": [
    "If we change the value of x in the loop, the number of iteration does not change. \n",
    "\n",
    "Arguments of range function are only evaluated for the first iteration."
   ]
  },
  {
   "cell_type": "code",
   "execution_count": 4,
   "metadata": {},
   "outputs": [
    {
     "name": "stdout",
     "output_type": "stream",
     "text": [
      "0\n",
      "1\n",
      "2\n",
      "3\n"
     ]
    }
   ],
   "source": [
    "x = 4\n",
    "for i in range(0,x):\n",
    "    print(i)\n",
    "    x=5 "
   ]
  },
  {
   "cell_type": "markdown",
   "metadata": {},
   "source": [
    "Since second \"for\" part is evaluated at each iteration, output of the following code looks different from that of previous one."
   ]
  },
  {
   "cell_type": "code",
   "execution_count": 5,
   "metadata": {},
   "outputs": [
    {
     "name": "stdout",
     "output_type": "stream",
     "text": [
      "0\n",
      "1\n",
      "2\n",
      "3\n",
      "0\n",
      "1\n",
      "0\n",
      "1\n",
      "0\n",
      "1\n"
     ]
    }
   ],
   "source": [
    "x = 4\n",
    "for j in range(x):\n",
    "    for i in range(x):\n",
    "        print(i)\n",
    "        x=2"
   ]
  },
  {
   "cell_type": "code",
   "execution_count": 6,
   "metadata": {},
   "outputs": [
    {
     "name": "stdout",
     "output_type": "stream",
     "text": [
      "Enter an integer: 10\n",
      "10 is not a perfect cube\n"
     ]
    }
   ],
   "source": [
    "x = int(input(\"Enter an integer: \"))\n",
    "for ans in range(0,abs(x)+1):\n",
    "    if ans**3 >= abs(x):\n",
    "        break\n",
    "\n",
    "if ans**3 != abs(x):\n",
    "    print(x, \"is not a perfect cube\")\n",
    "else:\n",
    "    if x<0:\n",
    "        ans = -ans\n",
    "    \n",
    "    print(\"Cube root of\", x, 'is', ans)"
   ]
  },
  {
   "cell_type": "code",
   "execution_count": 7,
   "metadata": {},
   "outputs": [
    {
     "name": "stdout",
     "output_type": "stream",
     "text": [
      "36\n"
     ]
    }
   ],
   "source": [
    "total = 0\n",
    "for c in '12345678':\n",
    "    total = total + int(c)\n",
    "\n",
    "print(total)"
   ]
  },
  {
   "cell_type": "markdown",
   "metadata": {},
   "source": [
    "## Approximation and bisection"
   ]
  },
  {
   "cell_type": "code",
   "execution_count": 8,
   "metadata": {},
   "outputs": [
    {
     "name": "stdout",
     "output_type": "stream",
     "text": [
      "numGuesses = 49990\n",
      "4.999000000001688 is close to square root of  25\n"
     ]
    }
   ],
   "source": [
    "x = 25\n",
    "epsilon = 0.01\n",
    "step = epsilon**2\n",
    "numGuesses = 0\n",
    "ans = 0.0\n",
    "while abs(ans**2 -x)>=epsilon and ans<= x:\n",
    "    ans += step\n",
    "    numGuesses += 1\n",
    "\n",
    "print(\"numGuesses =\", numGuesses)\n",
    "if abs(ans**2 -x)>= epsilon:\n",
    "    print(\"Failed on square root of\", x)\n",
    "\n",
    "else:\n",
    "    print(ans, \"is close to square root of \", x)\n",
    "    "
   ]
  },
  {
   "cell_type": "markdown",
   "metadata": {},
   "source": [
    "Using bisection is more efficient way to find square root."
   ]
  },
  {
   "cell_type": "code",
   "execution_count": 9,
   "metadata": {},
   "outputs": [
    {
     "name": "stdout",
     "output_type": "stream",
     "text": [
      "low= 0.01 high= 25.0 ans= 12.505\n",
      "low= 0.01 high= 12.505 ans= 6.2575\n",
      "low= 0.01 high= 6.2575 ans= 3.13375\n",
      "low= 3.13375 high= 6.2575 ans= 4.695625\n",
      "low= 4.695625 high= 6.2575 ans= 5.4765625\n",
      "low= 4.695625 high= 5.4765625 ans= 5.08609375\n",
      "low= 4.695625 high= 5.08609375 ans= 4.890859375\n",
      "low= 4.890859375 high= 5.08609375 ans= 4.9884765625\n",
      "low= 4.9884765625 high= 5.08609375 ans= 5.03728515625\n",
      "low= 4.9884765625 high= 5.03728515625 ans= 5.0128808593750005\n",
      "numGuesses = 10\n",
      "5.0006787109375 is close to square root of 25.0\n"
     ]
    }
   ],
   "source": [
    "x = 25.0\n",
    "epsilon = 0.01\n",
    "numGuesses =0\n",
    "low =0.01\n",
    "high = x\n",
    "ans = 0.5*(high + low)\n",
    "\n",
    "while abs(ans**2 - x)>= epsilon:\n",
    "    print(\"low=\", low, \"high=\", high, \"ans=\", ans)\n",
    "    numGuesses += 1\n",
    "    if ans**2 <x:\n",
    "        low = ans # raise guess\n",
    "    else:\n",
    "        high = ans # lower guess\n",
    "    \n",
    "    # update guess\n",
    "    ans =0.5*(high + low)\n",
    "\n",
    "print(\"numGuesses =\", numGuesses)\n",
    "print(ans, \"is close to square root of\", x)"
   ]
  },
  {
   "cell_type": "markdown",
   "metadata": {},
   "source": [
    "## Some thoughts on float"
   ]
  },
  {
   "cell_type": "code",
   "execution_count": 10,
   "metadata": {},
   "outputs": [
    {
     "name": "stdout",
     "output_type": "stream",
     "text": [
      "0.9999999999999999 is not 1.0\n"
     ]
    }
   ],
   "source": [
    "x =0.0\n",
    "for i in range(10):\n",
    "    x += 0.1\n",
    "    \n",
    "if x == 1.0:\n",
    "    print(x, \"=1.0\")\n",
    "else:\n",
    "    print(x, \"is not 1.0\")"
   ]
  },
  {
   "cell_type": "markdown",
   "metadata": {},
   "source": [
    "Programming languages are based on the binary system. Hence we have to notice the problem like above one.\n",
    "\n",
    "数値計算の常識 covers this problem precisely."
   ]
  },
  {
   "cell_type": "markdown",
   "metadata": {},
   "source": [
    "## Newton-Raphson mehod"
   ]
  },
  {
   "cell_type": "markdown",
   "metadata": {},
   "source": [
    "Following equation holds.\n",
    "\\begin{equation*}\n",
    "f(x_k) \\approx f'(x_k)(x-x_k)\n",
    "\\end{equation*}\n",
    "\n",
    "Then we obtain the sequence of x by \n",
    "\\begin{equation*}\n",
    "x_{k+1} =x_k - \\frac{f(x_k)}{f'(x_k)}\n",
    "\\end{equation*}\n"
   ]
  },
  {
   "cell_type": "markdown",
   "metadata": {},
   "source": [
    "Here we consider \n",
    "\\begin{equation*}\n",
    "f(x) = x^2 + 24.0\n",
    "\\end{equation*}"
   ]
  },
  {
   "cell_type": "code",
   "execution_count": 11,
   "metadata": {},
   "outputs": [
    {
     "name": "stdout",
     "output_type": "stream",
     "text": [
      "Square root of 25.0 is about 5.000012953048684\n"
     ]
    }
   ],
   "source": [
    "epsilon =0.01\n",
    "k = 25.0\n",
    "guess = 0.5*k\n",
    "\n",
    "while abs(guess**2 -k)>=epsilon:\n",
    "    guess = guess - (guess**2 -k)/(2*guess)\n",
    "\n",
    "print(\"Square root of\", k, \"is about\", guess)"
   ]
  },
  {
   "cell_type": "code",
   "execution_count": null,
   "metadata": {},
   "outputs": [],
   "source": []
  }
 ],
 "metadata": {
  "kernelspec": {
   "display_name": "Python 3",
   "language": "python",
   "name": "python3"
  },
  "language_info": {
   "codemirror_mode": {
    "name": "ipython",
    "version": 3
   },
   "file_extension": ".py",
   "mimetype": "text/x-python",
   "name": "python",
   "nbconvert_exporter": "python",
   "pygments_lexer": "ipython3",
   "version": "3.6.6"
  },
  "latex_envs": {
   "LaTeX_envs_menu_present": true,
   "autoclose": true,
   "autocomplete": true,
   "bibliofile": "biblio.bib",
   "cite_by": "apalike",
   "current_citInitial": 1,
   "eqLabelWithNumbers": true,
   "eqNumInitial": 1,
   "hotkeys": {
    "equation": "Ctrl-E",
    "itemize": "Ctrl-I"
   },
   "labels_anchors": false,
   "latex_user_defs": false,
   "report_style_numbering": false,
   "user_envs_cfg": false
  }
 },
 "nbformat": 4,
 "nbformat_minor": 2
}
