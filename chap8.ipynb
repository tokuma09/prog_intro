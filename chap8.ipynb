{
 "cells": [
  {
   "cell_type": "markdown",
   "metadata": {},
   "source": [
    "# Class"
   ]
  },
  {
   "cell_type": "code",
   "execution_count": 1,
   "metadata": {},
   "outputs": [],
   "source": [
    "class IntSet(object):\n",
    "    \"\"\"\n",
    "    IntSet is a set of integer.\n",
    "    \"\"\"\n",
    "    \n",
    "    def __init__(self):\n",
    "        \"\"\"\n",
    "        create empty set\n",
    "        \"\"\"\n",
    "        self.vals = []\n",
    "    \n",
    "    def insert(self,e):\n",
    "        \"\"\"\n",
    "        Argument\n",
    "        e: Int\n",
    "        return\n",
    "        list:\n",
    "        \"\"\"\n",
    "        \n",
    "        if not e in self.vals:\n",
    "            self.vals.append(e)\n",
    "    \n",
    "    def member(self, e):\n",
    "        \"\"\"\n",
    "        Argument:\n",
    "        e: Int\n",
    "        return\n",
    "        True or False\n",
    "        \"\"\"\n",
    "        return e in self.vals\n",
    "    \n",
    "    def remove(self, e):\n",
    "        try:\n",
    "            self.vals.remove(e)\n",
    "        except:\n",
    "            raise ValueError(str(e) + \"not found\")\n",
    "            \n",
    "    \n",
    "    def getMembers(self):\n",
    "        return self.vals[:]\n",
    "    \n",
    "    def __str__(self):\n",
    "        self.vals.sort()\n",
    "        result = \"\"\n",
    "        for e in self.vals:\n",
    "            result = result + str(e) +\",\"\n",
    "            \n",
    "        return \"{\"+result[:-1] + \"}\""
   ]
  },
  {
   "cell_type": "code",
   "execution_count": 2,
   "metadata": {},
   "outputs": [],
   "source": [
    "s = IntSet()"
   ]
  },
  {
   "cell_type": "code",
   "execution_count": 3,
   "metadata": {},
   "outputs": [],
   "source": [
    "s.insert(3)"
   ]
  },
  {
   "cell_type": "code",
   "execution_count": 4,
   "metadata": {},
   "outputs": [
    {
     "name": "stdout",
     "output_type": "stream",
     "text": [
      "True\n"
     ]
    }
   ],
   "source": [
    "print(s.member(3))"
   ]
  },
  {
   "cell_type": "code",
   "execution_count": 5,
   "metadata": {},
   "outputs": [],
   "source": [
    "import datetime"
   ]
  },
  {
   "cell_type": "code",
   "execution_count": 6,
   "metadata": {},
   "outputs": [],
   "source": [
    "class Person(object):\n",
    "    \n",
    "    def __init__(self,name):\n",
    "        \"\"\"\n",
    "        input people's name\n",
    "        \"\"\"\n",
    "        self.name = name\n",
    "        try:\n",
    "            lastBlank = name.rindex(\" \")\n",
    "            self.lastName = name[lastBlank+1:]\n",
    "        except:\n",
    "            self.lastName = name\n",
    "        self.birthday = None\n",
    "    \n",
    "    def getName(self):\n",
    "        \"\"\"\n",
    "        return full name of self\n",
    "        \"\"\"\n",
    "        \n",
    "        return self.name\n",
    "    \n",
    "    def getLastName(self):\n",
    "        \"\"\"\n",
    "        return last name of self\n",
    "        \"\"\"\n",
    "        return self.lastName\n",
    "    \n",
    "    def setBirthday(self,birthdate):\n",
    "        \"\"\"\n",
    "        birthdate: datetime.time\n",
    "        set person's birthday as birthdate\n",
    "        \"\"\"\n",
    "        self.birthday = birthdate\n",
    "    \n",
    "    def getAge(self):\n",
    "        \"\"\"\n",
    "        return their age \n",
    "        \"\"\"\n",
    "        if self.birthday == None:\n",
    "            raise ValueError\n",
    "        \n",
    "        return (datetime.date.today()-self.birthday).days\n",
    "    \n",
    "    def __It__(self,other):\n",
    "        \"\"\"\n",
    "        compare name of self with other name.\n",
    "        If their order is alphabetical, return true. Else return false.\n",
    "        \n",
    "        \"\"\"\n",
    "        if self.lastName == other.lastName:\n",
    "            return self.name < other.name\n",
    "        return self.lastName < other.lastName\n",
    "    \n",
    "    def __str__(self):\n",
    "        \"\"\"\n",
    "        return name of self\n",
    "        \"\"\"\n",
    "        \n",
    "        return self.name"
   ]
  },
  {
   "cell_type": "code",
   "execution_count": 7,
   "metadata": {},
   "outputs": [],
   "source": [
    "me = Person(\"Michael Guttag\")"
   ]
  },
  {
   "cell_type": "code",
   "execution_count": 8,
   "metadata": {},
   "outputs": [],
   "source": [
    "him = Person(\"Barack Hussein Obama\")"
   ]
  },
  {
   "cell_type": "code",
   "execution_count": 9,
   "metadata": {},
   "outputs": [
    {
     "name": "stdout",
     "output_type": "stream",
     "text": [
      "Obama\n"
     ]
    }
   ],
   "source": [
    "print(him.getLastName())"
   ]
  },
  {
   "cell_type": "code",
   "execution_count": 10,
   "metadata": {},
   "outputs": [],
   "source": [
    "her = Person(\"Madonna\")"
   ]
  },
  {
   "cell_type": "code",
   "execution_count": 11,
   "metadata": {},
   "outputs": [
    {
     "data": {
      "text/plain": [
       "20848"
      ]
     },
     "execution_count": 11,
     "metadata": {},
     "output_type": "execute_result"
    }
   ],
   "source": [
    "him.setBirthday(datetime.date(1961,8,4))\n",
    "him.getAge()"
   ]
  },
  {
   "cell_type": "code",
   "execution_count": 12,
   "metadata": {},
   "outputs": [
    {
     "name": "stdout",
     "output_type": "stream",
     "text": [
      "Barack Hussein Obama is 20848 days old\n"
     ]
    }
   ],
   "source": [
    "print(him.getName(), \"is\", him.getAge(), \"days old\")"
   ]
  },
  {
   "cell_type": "markdown",
   "metadata": {},
   "source": [
    "## Inheritance"
   ]
  },
  {
   "cell_type": "code",
   "execution_count": 13,
   "metadata": {},
   "outputs": [],
   "source": [
    "class MITPerson(Person):\n",
    "    \n",
    "    nextIdNum =0 # id of person\n",
    "    \n",
    "    def __init__(self,name):\n",
    "        Person.__init__(self,name)\n",
    "        self.idNum = MITPerson.nextIdNum\n",
    "        MITPerson.nextIdNum +=1\n",
    "        \n",
    "    def getIdNum(self):\n",
    "        return self.idNum\n",
    "    \n",
    "    def __It__(self, other):\n",
    "        return self.idNum < other.idNum"
   ]
  },
  {
   "cell_type": "code",
   "execution_count": 14,
   "metadata": {},
   "outputs": [],
   "source": [
    "p1 = MITPerson(\"Barbara Beaver\")"
   ]
  },
  {
   "cell_type": "code",
   "execution_count": 15,
   "metadata": {},
   "outputs": [
    {
     "name": "stdout",
     "output_type": "stream",
     "text": [
      "Barbara Beaver's id number is 0\n"
     ]
    }
   ],
   "source": [
    "print(str(p1) + '\\'s id number is ' + str(p1.getIdNum()))"
   ]
  },
  {
   "cell_type": "code",
   "execution_count": 16,
   "metadata": {},
   "outputs": [],
   "source": [
    "class student(MITPerson):\n",
    "    pass\n",
    "\n",
    "class UG(student):\n",
    "    def __init__(self,name,classYear):\n",
    "        MITPerson.__init__(self,name)\n",
    "        self.year = classYear\n",
    "    \n",
    "    def getClass(self):\n",
    "        return self.year\n",
    "    \n",
    "    \n",
    "class Grad(student):\n",
    "    pass"
   ]
  },
  {
   "cell_type": "code",
   "execution_count": 17,
   "metadata": {},
   "outputs": [],
   "source": [
    "p5=Grad(\"Buzz Aldrin\")"
   ]
  },
  {
   "cell_type": "code",
   "execution_count": 18,
   "metadata": {},
   "outputs": [
    {
     "name": "stdout",
     "output_type": "stream",
     "text": [
      "Buzz Aldrin is a graduate student is True\n"
     ]
    }
   ],
   "source": [
    "p6 = UG(\"Bully Beaver\",1984)\n",
    "print(p5, \"is a graduate student is\", type(p5)==Grad)"
   ]
  },
  {
   "cell_type": "code",
   "execution_count": 19,
   "metadata": {},
   "outputs": [
    {
     "name": "stdout",
     "output_type": "stream",
     "text": [
      "Buzz Aldrin is a undergraduate student is False\n"
     ]
    }
   ],
   "source": [
    "print(p5, \"is a undergraduate student is\", type(p5)==UG)"
   ]
  },
  {
   "cell_type": "code",
   "execution_count": null,
   "metadata": {},
   "outputs": [],
   "source": []
  },
  {
   "cell_type": "code",
   "execution_count": null,
   "metadata": {},
   "outputs": [],
   "source": []
  }
 ],
 "metadata": {
  "kernelspec": {
   "display_name": "Python 3",
   "language": "python",
   "name": "python3"
  },
  "language_info": {
   "codemirror_mode": {
    "name": "ipython",
    "version": 3
   },
   "file_extension": ".py",
   "mimetype": "text/x-python",
   "name": "python",
   "nbconvert_exporter": "python",
   "pygments_lexer": "ipython3",
   "version": "3.6.6"
  },
  "latex_envs": {
   "LaTeX_envs_menu_present": true,
   "autoclose": true,
   "autocomplete": true,
   "bibliofile": "biblio.bib",
   "cite_by": "apalike",
   "current_citInitial": 1,
   "eqLabelWithNumbers": true,
   "eqNumInitial": 1,
   "hotkeys": {
    "equation": "Ctrl-E",
    "itemize": "Ctrl-I"
   },
   "labels_anchors": false,
   "latex_user_defs": false,
   "report_style_numbering": false,
   "user_envs_cfg": false
  }
 },
 "nbformat": 4,
 "nbformat_minor": 2
}
