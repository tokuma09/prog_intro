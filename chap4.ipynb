{
 "cells": [
  {
   "cell_type": "markdown",
   "metadata": {},
   "source": [
    "# Function, Scope"
   ]
  },
  {
   "cell_type": "code",
   "execution_count": 1,
   "metadata": {},
   "outputs": [],
   "source": [
    "def maxval(x,y):\n",
    "    if x>y:\n",
    "        return x\n",
    "    else:\n",
    "        return y"
   ]
  },
  {
   "cell_type": "code",
   "execution_count": 2,
   "metadata": {},
   "outputs": [
    {
     "data": {
      "text/plain": [
       "4"
      ]
     },
     "execution_count": 2,
     "metadata": {},
     "output_type": "execute_result"
    }
   ],
   "source": [
    "maxval(3,4)"
   ]
  },
  {
   "cell_type": "code",
   "execution_count": 3,
   "metadata": {},
   "outputs": [],
   "source": [
    "def printName(firstname, lastname, reverse=True):\n",
    "    if reverse:\n",
    "        print(lastname + \",\" + firstname)\n",
    "    else:\n",
    "        print(firstname, lastname)"
   ]
  },
  {
   "cell_type": "code",
   "execution_count": 4,
   "metadata": {},
   "outputs": [
    {
     "name": "stdout",
     "output_type": "stream",
     "text": [
      "Oiga Puchmajerova\n"
     ]
    }
   ],
   "source": [
    "printName(\"Oiga\",\"Puchmajerova\", False)"
   ]
  },
  {
   "cell_type": "code",
   "execution_count": 5,
   "metadata": {},
   "outputs": [
    {
     "name": "stdout",
     "output_type": "stream",
     "text": [
      "Puchmajerova,Oiga\n"
     ]
    }
   ],
   "source": [
    "printName(\"Oiga\",\"Puchmajerova\")"
   ]
  },
  {
   "cell_type": "code",
   "execution_count": 6,
   "metadata": {},
   "outputs": [],
   "source": [
    "def f(x):\n",
    "    y = 1\n",
    "    x += y\n",
    "    print(\"x =\", x)\n",
    "    return x\n"
   ]
  },
  {
   "cell_type": "code",
   "execution_count": 7,
   "metadata": {},
   "outputs": [
    {
     "name": "stdout",
     "output_type": "stream",
     "text": [
      "x = 4\n",
      "z= 4\n",
      "y= 2\n",
      "x= 3\n"
     ]
    }
   ],
   "source": [
    "x,y =3,2\n",
    "z = f(x)\n",
    "print(\"z=\", z)\n",
    "print(\"y=\", y)\n",
    "print(\"x=\", x)"
   ]
  },
  {
   "cell_type": "code",
   "execution_count": 8,
   "metadata": {},
   "outputs": [],
   "source": [
    "def f(x):\n",
    "    def g():\n",
    "        x=\"abc\"\n",
    "        print(\"x=\", x)\n",
    "    def h():\n",
    "        z = x\n",
    "        print(\"z=\", z)\n",
    "    \n",
    "    x += 1\n",
    "    print(\"x=\", x)\n",
    "    h()\n",
    "    g()\n",
    "    print(\"x=\", x)\n",
    "    return g"
   ]
  },
  {
   "cell_type": "code",
   "execution_count": 9,
   "metadata": {},
   "outputs": [
    {
     "name": "stdout",
     "output_type": "stream",
     "text": [
      "x= 4\n",
      "z= 4\n",
      "x= abc\n",
      "x= 4\n",
      "x= 3\n",
      "z= <function f.<locals>.g at 0x000001CA99768C80>\n"
     ]
    }
   ],
   "source": [
    "x = 3\n",
    "z = f(x)\n",
    "print(\"x=\", x)\n",
    "print(\"z=\", z)"
   ]
  },
  {
   "cell_type": "code",
   "execution_count": 10,
   "metadata": {},
   "outputs": [
    {
     "name": "stdout",
     "output_type": "stream",
     "text": [
      "x= abc\n"
     ]
    }
   ],
   "source": [
    "z()"
   ]
  },
  {
   "cell_type": "markdown",
   "metadata": {},
   "source": [
    "## Specification\n"
   ]
  },
  {
   "cell_type": "code",
   "execution_count": 11,
   "metadata": {},
   "outputs": [],
   "source": [
    "def findRoot(x, power, epsilon):\n",
    "    \"\"\"\n",
    "    Objective: Find Root\n",
    "    \n",
    "    Arguments:\n",
    "    x:: Int or Float\n",
    "    epsilon:: Int or Float, epsilon >0\n",
    "    power:: Int , power >=1\n",
    "    \n",
    "    \n",
    "    Return:\n",
    "    y: Float\n",
    "    y satisfies y**power in [x-ϵ,x+ϵ].\n",
    "    If there does not exist such number, return null.\n",
    "    \"\"\"\n",
    "    \n",
    "    \n",
    "    \n",
    "    if x < 0.0 and power%2 == 0: #negative number does not have root\n",
    "        return None \n",
    "    \n",
    "    low = min(-1.0,x)\n",
    "    high = max(1.0,x)\n",
    "    ans =0.5*(low+high)\n",
    "    \n",
    "    while abs(ans**power - x) >= epsilon:\n",
    "        if ans**power < x:\n",
    "            low = ans \n",
    "        else:\n",
    "            high = ans \n",
    "        ans = 0.5*(low+high)\n",
    "    \n",
    "    return ans \n",
    "\n",
    "                "
   ]
  },
  {
   "cell_type": "code",
   "execution_count": 12,
   "metadata": {},
   "outputs": [],
   "source": [
    "def testFindRoot():\n",
    "    \"\"\"\n",
    "    This function check whether findRoot function works well\n",
    "    \"\"\"\n",
    "    \n",
    "    epsilon = 1e-3\n",
    "    \n",
    "    for x in (0.25,-0.25,2,-2,8,-8):\n",
    "        for power in range(1,5):\n",
    "            print(\"Testing x =\", str(x), \"and power\",  power)\n",
    "            result = findRoot(x,power,epsilon)\n",
    "            \n",
    "            if result == None:\n",
    "                print(\"No root\")\n",
    "            else:\n",
    "                print(\"\", result**power, \"~=\", x)"
   ]
  },
  {
   "cell_type": "code",
   "execution_count": 13,
   "metadata": {},
   "outputs": [
    {
     "name": "stdout",
     "output_type": "stream",
     "text": [
      "Testing x = 0.25 and power 1\n",
      " 0.25 ~= 0.25\n",
      "Testing x = 0.25 and power 2\n",
      " 0.25 ~= 0.25\n",
      "Testing x = 0.25 and power 3\n",
      " 0.24990749079734087 ~= 0.25\n",
      "Testing x = 0.25 and power 4\n",
      " 0.24989319988526404 ~= 0.25\n",
      "Testing x = -0.25 and power 1\n",
      " -0.25 ~= -0.25\n",
      "Testing x = -0.25 and power 2\n",
      "No root\n",
      "Testing x = -0.25 and power 3\n",
      " -0.24990749079734087 ~= -0.25\n",
      "Testing x = -0.25 and power 4\n",
      "No root\n",
      "Testing x = 2 and power 1\n",
      " 1.999267578125 ~= 2\n",
      "Testing x = 2 and power 2\n",
      " 1.99957275390625 ~= 2\n",
      "Testing x = 2 and power 3\n",
      " 1.9998411629076145 ~= 2\n",
      "Testing x = 2 and power 4\n",
      " 2.0000125756172373 ~= 2\n",
      "Testing x = -2 and power 1\n",
      " -1.999267578125 ~= -2\n",
      "Testing x = -2 and power 2\n",
      "No root\n",
      "Testing x = -2 and power 3\n",
      " -1.9998411629076145 ~= -2\n",
      "Testing x = -2 and power 4\n",
      "No root\n",
      "Testing x = 8 and power 1\n",
      " 7.99945068359375 ~= 8\n",
      "Testing x = 8 and power 2\n",
      " 8.000189893878996 ~= 8\n",
      "Testing x = 8 and power 3\n",
      " 7.999450696166509 ~= 8\n",
      "Testing x = 8 and power 4\n",
      " 7.999426623599746 ~= 8\n",
      "Testing x = -8 and power 1\n",
      " -7.99945068359375 ~= -8\n",
      "Testing x = -8 and power 2\n",
      "No root\n",
      "Testing x = -8 and power 3\n",
      " -7.999450696166509 ~= -8\n",
      "Testing x = -8 and power 4\n",
      "No root\n"
     ]
    }
   ],
   "source": [
    "testFindRoot()"
   ]
  },
  {
   "cell_type": "markdown",
   "metadata": {},
   "source": [
    "## Recursion"
   ]
  },
  {
   "cell_type": "code",
   "execution_count": 15,
   "metadata": {},
   "outputs": [],
   "source": [
    "def factR(n):\n",
    "    \"\"\"\n",
    "    Argument:\n",
    "    n: Int, n >0\n",
    "    return;\n",
    "    n!\n",
    "    \"\"\"\n",
    "    \n",
    "    if n == 1:\n",
    "        return n\n",
    "    \n",
    "    else:\n",
    "        return n*factR(n-1)"
   ]
  },
  {
   "cell_type": "code",
   "execution_count": 16,
   "metadata": {},
   "outputs": [
    {
     "data": {
      "text/plain": [
       "1"
      ]
     },
     "execution_count": 16,
     "metadata": {},
     "output_type": "execute_result"
    }
   ],
   "source": [
    "factR(1)"
   ]
  },
  {
   "cell_type": "code",
   "execution_count": 17,
   "metadata": {},
   "outputs": [
    {
     "data": {
      "text/plain": [
       "120"
      ]
     },
     "execution_count": 17,
     "metadata": {},
     "output_type": "execute_result"
    }
   ],
   "source": [
    "factR(5)"
   ]
  },
  {
   "cell_type": "code",
   "execution_count": 18,
   "metadata": {},
   "outputs": [],
   "source": [
    "def fib(n):\n",
    "    \"\"\"\n",
    "    Argument:\n",
    "    n: Int, n>0\n",
    "    \"\"\"\n",
    "    \n",
    "    if n ==0 or n ==1:\n",
    "        return 1\n",
    "    else:\n",
    "        return fib(n-1) + fib(n-2)"
   ]
  },
  {
   "cell_type": "code",
   "execution_count": 19,
   "metadata": {},
   "outputs": [],
   "source": [
    "def testfib(n):\n",
    "    for i in range(n+1):\n",
    "        print(\"fib of \", i , \"=\", fib(i))"
   ]
  },
  {
   "cell_type": "code",
   "execution_count": 20,
   "metadata": {},
   "outputs": [
    {
     "name": "stdout",
     "output_type": "stream",
     "text": [
      "fib of  0 = 1\n",
      "fib of  1 = 1\n",
      "fib of  2 = 2\n",
      "fib of  3 = 3\n",
      "fib of  4 = 5\n",
      "fib of  5 = 8\n"
     ]
    }
   ],
   "source": [
    "testfib(5)"
   ]
  },
  {
   "cell_type": "code",
   "execution_count": 21,
   "metadata": {},
   "outputs": [],
   "source": [
    "def isPalindrome(s):\n",
    "    \"\"\"\n",
    "    \n",
    "    Argument:\n",
    "    s: strings\n",
    "    \n",
    "    Return;\n",
    "    \n",
    "    if x is Palindrome, True\n",
    "    else False\n",
    "    \"\"\"\n",
    "    \n",
    "    \n",
    "    def toChars(s):\n",
    "        #すべての文字を小文字にして文字列を作る\n",
    "        s = s.lower()\n",
    "        letters = \"\"\n",
    "        for c in s:\n",
    "            if c in \"abcdefghijklmnopqrstuvwxyz\":\n",
    "                letters += c\n",
    "        return letters\n",
    "    \n",
    "    def isPal(s):\n",
    "        if len(s)<= 1:\n",
    "            return True\n",
    "        else:\n",
    "            \n",
    "            #最初と最後の文字が同じかをチェック チェックしたら中心にうつる\n",
    "            return s[0]== s[-1] and isPal(s[1:-1])　\n",
    "        \n",
    "    return isPal(toChars(s))\n"
   ]
  },
  {
   "cell_type": "code",
   "execution_count": 27,
   "metadata": {},
   "outputs": [
    {
     "data": {
      "text/plain": [
       "True"
      ]
     },
     "execution_count": 27,
     "metadata": {},
     "output_type": "execute_result"
    }
   ],
   "source": [
    "x = \"Abccba\"\n",
    "isPalindrome(x)"
   ]
  },
  {
   "cell_type": "code",
   "execution_count": 26,
   "metadata": {},
   "outputs": [
    {
     "data": {
      "text/plain": [
       "False"
      ]
     },
     "execution_count": 26,
     "metadata": {},
     "output_type": "execute_result"
    }
   ],
   "source": [
    "x = \"sample\"\n",
    "isPalindrome(x)"
   ]
  },
  {
   "cell_type": "markdown",
   "metadata": {},
   "source": [
    "## Global variable"
   ]
  },
  {
   "cell_type": "code",
   "execution_count": 31,
   "metadata": {},
   "outputs": [],
   "source": [
    "def fib(n):\n",
    "    \"\"\"\n",
    "    Argument:\n",
    "    n: Int, n>0\n",
    "    \"\"\"\n",
    "    global numFibCalls\n",
    "    numFibCalls += 1\n",
    "    if n ==0 or n ==1:\n",
    "        return 1\n",
    "    else:\n",
    "        return fib(n-1) + fib(n-2)"
   ]
  },
  {
   "cell_type": "code",
   "execution_count": 32,
   "metadata": {},
   "outputs": [],
   "source": [
    "def testfib(n):\n",
    "    for i in range(n+1):\n",
    "        global numFibCalls\n",
    "        numFibCalls = 0\n",
    "        print(\"fib of\", i, \"=\", fib(i))\n",
    "        print(\"fib called\", numFibCalls,\"times.\")"
   ]
  },
  {
   "cell_type": "code",
   "execution_count": 33,
   "metadata": {},
   "outputs": [
    {
     "name": "stdout",
     "output_type": "stream",
     "text": [
      "fib of 0 = 1\n",
      "fib called 1 times.\n",
      "fib of 1 = 1\n",
      "fib called 1 times.\n",
      "fib of 2 = 2\n",
      "fib called 3 times.\n",
      "fib of 3 = 3\n",
      "fib called 5 times.\n",
      "fib of 4 = 5\n",
      "fib called 9 times.\n",
      "fib of 5 = 8\n",
      "fib called 15 times.\n"
     ]
    }
   ],
   "source": [
    "testfib(5)"
   ]
  },
  {
   "cell_type": "markdown",
   "metadata": {},
   "source": [
    "## Module"
   ]
  },
  {
   "cell_type": "markdown",
   "metadata": {},
   "source": [
    "As programs are larger and larger, it is convenient to decompose the problem and save them.\n",
    "\n",
    "Using module is a good way to solve the problem."
   ]
  },
  {
   "cell_type": "code",
   "execution_count": 34,
   "metadata": {},
   "outputs": [
    {
     "name": "stdout",
     "output_type": "stream",
     "text": [
      "3\n"
     ]
    }
   ],
   "source": [
    "import circle\n",
    "pi = 3\n",
    "print(pi)"
   ]
  },
  {
   "cell_type": "code",
   "execution_count": 35,
   "metadata": {},
   "outputs": [
    {
     "name": "stdout",
     "output_type": "stream",
     "text": [
      "3.14159\n"
     ]
    }
   ],
   "source": [
    "print(circle.pi)"
   ]
  },
  {
   "cell_type": "code",
   "execution_count": 36,
   "metadata": {},
   "outputs": [
    {
     "name": "stdout",
     "output_type": "stream",
     "text": [
      "28.27431\n"
     ]
    }
   ],
   "source": [
    "print(circle.area(3))"
   ]
  },
  {
   "cell_type": "code",
   "execution_count": 37,
   "metadata": {},
   "outputs": [
    {
     "name": "stdout",
     "output_type": "stream",
     "text": [
      "18.849539999999998\n"
     ]
    }
   ],
   "source": [
    "print(circle.circumference(3))"
   ]
  },
  {
   "cell_type": "code",
   "execution_count": 38,
   "metadata": {},
   "outputs": [
    {
     "name": "stdout",
     "output_type": "stream",
     "text": [
      "113.09724\n"
     ]
    }
   ],
   "source": [
    "print(circle.sphereSurface(3))"
   ]
  },
  {
   "cell_type": "markdown",
   "metadata": {},
   "source": [
    "## File IO"
   ]
  },
  {
   "cell_type": "code",
   "execution_count": 48,
   "metadata": {},
   "outputs": [
    {
     "name": "stdout",
     "output_type": "stream",
     "text": [
      "Enter name:david\n",
      "Enter name:andrea\n"
     ]
    }
   ],
   "source": [
    "nameHandle = open(\"kids\", \"w\") # create file which name is kids\n",
    "# \"w\" means we open the file by write mode\n",
    "for i in range(2):\n",
    "    name = input(\"Enter name:\")\n",
    "    nameHandle.write(name+ \"\\n\") # \\nは改行を示す　writeメソッドはファイルに書き込むことを示す\n",
    "    \n",
    "nameHandle.close()#close file"
   ]
  },
  {
   "cell_type": "code",
   "execution_count": 50,
   "metadata": {},
   "outputs": [
    {
     "name": "stdout",
     "output_type": "stream",
     "text": [
      "david\n",
      "andrea\n"
     ]
    }
   ],
   "source": [
    "nameHandle = open(\"kids\",\"r\") #読みこみモードでファイルを開く\n",
    "for line in nameHandle:\n",
    "    print(line[:-1]) # not to read \\n\n",
    "\n",
    "nameHandle.close()"
   ]
  },
  {
   "cell_type": "code",
   "execution_count": 51,
   "metadata": {},
   "outputs": [
    {
     "name": "stdout",
     "output_type": "stream",
     "text": [
      "david\n",
      "andrea\n",
      "michael\n"
     ]
    }
   ],
   "source": [
    "nameHandle = open(\"kids\",\"a\") # append mode\n",
    "nameHandle.write(\"michael\\n\")\n",
    "nameHandle.close()\n",
    "\n",
    "nameHandle = open(\"kids\",\"r\") #読みこみモードでファイルを開く\n",
    "for line in nameHandle:\n",
    "    print(line[:-1]) # not to read \\n\n",
    "\n",
    "nameHandle.close()"
   ]
  },
  {
   "cell_type": "code",
   "execution_count": null,
   "metadata": {},
   "outputs": [],
   "source": []
  }
 ],
 "metadata": {
  "kernelspec": {
   "display_name": "Python 3",
   "language": "python",
   "name": "python3"
  },
  "language_info": {
   "codemirror_mode": {
    "name": "ipython",
    "version": 3
   },
   "file_extension": ".py",
   "mimetype": "text/x-python",
   "name": "python",
   "nbconvert_exporter": "python",
   "pygments_lexer": "ipython3",
   "version": "3.6.6"
  },
  "latex_envs": {
   "LaTeX_envs_menu_present": true,
   "autoclose": true,
   "autocomplete": true,
   "bibliofile": "biblio.bib",
   "cite_by": "apalike",
   "current_citInitial": 1,
   "eqLabelWithNumbers": true,
   "eqNumInitial": 1,
   "hotkeys": {
    "equation": "Ctrl-E",
    "itemize": "Ctrl-I"
   },
   "labels_anchors": false,
   "latex_user_defs": false,
   "report_style_numbering": false,
   "user_envs_cfg": false
  }
 },
 "nbformat": 4,
 "nbformat_minor": 2
}
