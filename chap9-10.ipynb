{
 "cells": [
  {
   "cell_type": "markdown",
   "metadata": {},
   "source": [
    "# chapter 9 and 10\n",
    "\n",
    "定義はテキストから引っ張った。\n",
    "\n",
    "- bese-case running time: 入力がアルゴリズムにとって最も好ましい場合の計算時間\n",
    "- worst-case running time: あるサイズのすべての入力に対して計算時間の最大値を取ったもの\n",
    "- average-case running time; あるサイズのすべての入力に対して計算時間の平均を取ったもの\n",
    "\n",
    "worst-case running time: upper bound of computation time "
   ]
  },
  {
   "cell_type": "markdown",
   "metadata": {},
   "source": [
    "## asymptotic notation\n",
    "\n",
    "\n",
    "Introducing the definition of asymptotic notation is useful to discuss the relationship between computation time and input size.\n",
    "\n",
    "\n",
    "- Big O notation\n",
    "\n",
    "Big O notation provides the upper bound of rate of growth.\n",
    "\n",
    "Example.\n",
    "\n",
    "\\begin{equation*}\n",
    "g(x) \\in \\mathcal{O}(x^2)\n",
    "\\end{equation*}\n",
    "\n",
    "This means rate of $g(x)$'s growth is not faster than that of $x^2$.\n",
    "\n",
    "How do we check this?\n",
    "\n",
    "- If computation time is represented by sum of some terms, pick only the maximum term.\n",
    "- If maximum terms are product, remove constant coefficient.\n",
    "\n"
   ]
  },
  {
   "cell_type": "markdown",
   "metadata": {},
   "source": [
    "https://qiita.com/drken/items/872ebc3a2b5caaa4a0d0\n",
    "\n",
    "が計算量の話でよくまとまっている"
   ]
  },
  {
   "cell_type": "markdown",
   "metadata": {},
   "source": [
    "Some important class of computational complexity.\n",
    "\n",
    "Let n be the size of input.\n",
    "\n",
    "- $O(1)$ :constant running time\n",
    "- $O(\\log n)$: logarithmic running time\n",
    "- $O(n)$: linear running time\n",
    "- $O(n \\log n)$: log-linear running time\n",
    "- $O(n^k)$: polynomial running time\n",
    "- $O(c^n)$: exponential running time\n"
   ]
  },
  {
   "cell_type": "markdown",
   "metadata": {},
   "source": [
    "## Chapter 10\n",
    "\n",
    "Using some example algorithm, we try to understand the computational complexity.\n",
    "\n",
    "## Search Algorithm"
   ]
  },
  {
   "cell_type": "code",
   "execution_count": 1,
   "metadata": {},
   "outputs": [],
   "source": [
    "def search(L,e):\n",
    "    \"\"\"\n",
    "    This function check whether a list includes some element. \n",
    "    If yes, return True, else return False.\n",
    "    \n",
    "    Arguments:\n",
    "    L: list\n",
    "    e: some object\n",
    "    \n",
    "    \"\"\"\n",
    "    \n",
    "    for i in range(len(L)):\n",
    "        if L[i]== e:\n",
    "            return True\n",
    "        return False"
   ]
  },
  {
   "cell_type": "markdown",
   "metadata": {},
   "source": [
    "If lists are sorted, we can use binary search algorithm. This algorithm reduces worst-case running time."
   ]
  },
  {
   "cell_type": "code",
   "execution_count": 2,
   "metadata": {},
   "outputs": [],
   "source": [
    "def bsearch(L,e):\n",
    "    \"\"\"\n",
    "    This function check whether a list includes some element using binary search algorithm.\n",
    "    If yes, return True, else return False.\n",
    "    \n",
    "    Arguments:\n",
    "    L: list that is sorted\n",
    "    e: some object\n",
    "    \n",
    "    \"\"\"\n",
    "    \n",
    "    def bSearch(L,e,low,high):\n",
    "        \n",
    "        if high==low:\n",
    "            return L[low]==e\n",
    "        \n",
    "        mid = (low+high)//2\n",
    "        \n",
    "        if L[mid] == e:\n",
    "            return True\n",
    "        \n",
    "        elif L[mid] > e:\n",
    "            if low == mid:\n",
    "                # there is no search space\n",
    "                return False\n",
    "            \n",
    "            else:\n",
    "                return bSearch(L,e,low,mid-1)\n",
    "            \n",
    "        else:\n",
    "            return bSearch(L,e,mid+1,high)\n",
    "        \n",
    "        \n",
    "    if len(L) == 0:\n",
    "        return False\n",
    "    else:\n",
    "        return bSearch(L,e,0,len(L)-1)\n"
   ]
  },
  {
   "cell_type": "markdown",
   "metadata": {},
   "source": [
    "## Sorting algorithm\n",
    "\n",
    "Previously, we can reduce computational time if a list is sorted. \n",
    "\n",
    "Should we sort the list and then search some data? How much time do we need to sort the list ?\n",
    "\n",
    "\n",
    "Basically, we must read each element of list. Thus if we need to search element in the list for a lot of time, it may be efficient to sort the list first.\n",
    "\n",
    "\n",
    "Through examples, consider these things."
   ]
  },
  {
   "cell_type": "code",
   "execution_count": 3,
   "metadata": {},
   "outputs": [],
   "source": [
    "def selSort(L):\n",
    "    \"\"\"\n",
    "    Sort list by ascending order.\n",
    "    \n",
    "    Argument:\n",
    "    \n",
    "    L: list but can be compared using >\n",
    "    \n",
    "    \"\"\"\n",
    "    \n",
    "    suffixStart = 0 # prefix,リストのうち最初からi番目までの要素からなる部分リスト suffix はcomplement.\n",
    "    \n",
    "    while suffixStart != len(L): #O(len(L))\n",
    "        for i in range(suffixStart,len(L)):#O(len(L))\n",
    "            if L[i] < L[suffixStart]:\n",
    "                L[suffixStart], L[i] = L[i], L[suffixStart]\n",
    "                \n",
    "        suffixStart += 1"
   ]
  },
  {
   "cell_type": "markdown",
   "metadata": {},
   "source": [
    "This selection sort is not efficient since computational time is $O(len(L)^2)$.\n",
    "\n",
    "However, divide-and-conque algorithm can improve previous one."
   ]
  },
  {
   "cell_type": "code",
   "execution_count": 4,
   "metadata": {},
   "outputs": [],
   "source": [
    "def merge(left, right, compare):\n",
    "    \"\"\"\n",
    "    Return new sorted list according to compare function\n",
    "    \n",
    "    Arguments:\n",
    "    left: sorted list\n",
    "    right: sorted list\n",
    "    compare: lambda function\n",
    "    \"\"\"\n",
    "    \n",
    "    result = []\n",
    "    i,j =0,0\n",
    "    \n",
    "    # for the case that elements remain in both lists.\n",
    "    while i < len(left)  and j < len(right):\n",
    "        if compare(left[i],right[j]):\n",
    "            result.append(left[i])\n",
    "            i += 1\n",
    "        else:\n",
    "            result.append(right[j])\n",
    "            j += 1\n",
    "            \n",
    "    # Here after consider the case that elements remain in only one list\n",
    "    while i < len(left):\n",
    "        result.append(left[i])\n",
    "        i += 1\n",
    "            \n",
    "    while j < len(right):\n",
    "        result.append(right[j])\n",
    "        j += 1\n",
    "    \n",
    "    return result  "
   ]
  },
  {
   "cell_type": "code",
   "execution_count": 5,
   "metadata": {},
   "outputs": [],
   "source": [
    "def mergeSort(L, compare = lambda x, y: x < y):\n",
    "    \"\"\"\n",
    "    this function returns new sorted list that contains same elements in the original one.\n",
    "    \n",
    "    Arguments:\n",
    "    L :list\n",
    "    \n",
    "    \"\"\"\n",
    "    \n",
    "    if len(L)<2:\n",
    "        return L[:]\n",
    "    \n",
    "    else:\n",
    "        middle = len(L)//2\n",
    "        # divides list\n",
    "        left = mergeSort(L[:middle],compare) #ここでリストをどんどん分割してく\n",
    "        right = mergeSort(L[middle:],compare)\n",
    "    return merge(left, right, compare)"
   ]
  },
  {
   "cell_type": "code",
   "execution_count": 6,
   "metadata": {},
   "outputs": [
    {
     "name": "stdout",
     "output_type": "stream",
     "text": [
      "[1, 2, 3, 4, 5] [5, 4, 3, 2, 1]\n"
     ]
    }
   ],
   "source": [
    "L = [2,1,4,5,3]\n",
    "print(mergeSort(L), mergeSort(L,lambda x,y: x>y))"
   ]
  },
  {
   "cell_type": "code",
   "execution_count": null,
   "metadata": {},
   "outputs": [],
   "source": []
  },
  {
   "cell_type": "code",
   "execution_count": null,
   "metadata": {},
   "outputs": [],
   "source": []
  }
 ],
 "metadata": {
  "kernelspec": {
   "display_name": "Python 3",
   "language": "python",
   "name": "python3"
  },
  "language_info": {
   "codemirror_mode": {
    "name": "ipython",
    "version": 3
   },
   "file_extension": ".py",
   "mimetype": "text/x-python",
   "name": "python",
   "nbconvert_exporter": "python",
   "pygments_lexer": "ipython3",
   "version": "3.6.6"
  },
  "latex_envs": {
   "LaTeX_envs_menu_present": true,
   "autoclose": true,
   "autocomplete": true,
   "bibliofile": "biblio.bib",
   "cite_by": "apalike",
   "current_citInitial": 1,
   "eqLabelWithNumbers": true,
   "eqNumInitial": 1,
   "hotkeys": {
    "equation": "Ctrl-E",
    "itemize": "Ctrl-I"
   },
   "labels_anchors": false,
   "latex_user_defs": false,
   "report_style_numbering": false,
   "user_envs_cfg": false
  }
 },
 "nbformat": 4,
 "nbformat_minor": 2
}
